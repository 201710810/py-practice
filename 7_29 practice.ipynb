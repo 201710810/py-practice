{
 "cells": [
  {
   "cell_type": "code",
   "execution_count": 10,
   "id": "abfa816e",
   "metadata": {},
   "outputs": [
    {
     "name": "stdout",
     "output_type": "stream",
     "text": [
      "7\n",
      "t\n",
      "FLAC\n"
     ]
    }
   ],
   "source": [
    "def max_of(a):\n",
    "    maximum = a[0]\n",
    "    for i in range(1, len(a)):\n",
    "        if a[i] > maximum:\n",
    "            maximum = a[i]\n",
    "    return maximum\n",
    "\n",
    "t = (4, 7, 5, 6, 2, 3.14, 1)\n",
    "s = 'string'\n",
    "a = ['DTS', 'AAC', 'FLAC']\n",
    "    \n",
    "print(f'{max_of(t)}')\n",
    "print(f'{max_of(s)}')\n",
    "print(f'{max_of(a)}')\n",
    "    "
   ]
  },
  {
   "cell_type": "markdown",
   "id": "d157e05c",
   "metadata": {},
   "source": [
    "### 알파벳은 뒤로 갈수록 값이 커짐"
   ]
  },
  {
   "cell_type": "markdown",
   "id": "2336e0fa",
   "metadata": {},
   "source": [
    "## 튜플"
   ]
  },
  {
   "cell_type": "code",
   "execution_count": 2,
   "id": "1677b8c9",
   "metadata": {},
   "outputs": [
    {
     "data": {
      "text/plain": [
       "tuple"
      ]
     },
     "execution_count": 2,
     "metadata": {},
     "output_type": "execute_result"
    }
   ],
   "source": [
    "t1 = 1, 2, 3\n",
    "type(t1)"
   ]
  },
  {
   "cell_type": "code",
   "execution_count": 3,
   "id": "e3f60cd3",
   "metadata": {},
   "outputs": [
    {
     "ename": "TypeError",
     "evalue": "'tuple' object does not support item assignment",
     "output_type": "error",
     "traceback": [
      "\u001b[1;31m---------------------------------------------------------------------------\u001b[0m",
      "\u001b[1;31mTypeError\u001b[0m                                 Traceback (most recent call last)",
      "\u001b[1;32m<ipython-input-3-6dd06f73cec4>\u001b[0m in \u001b[0;36m<module>\u001b[1;34m\u001b[0m\n\u001b[1;32m----> 1\u001b[1;33m \u001b[0mt\u001b[0m\u001b[1;33m[\u001b[0m\u001b[1;36m0\u001b[0m\u001b[1;33m]\u001b[0m \u001b[1;33m=\u001b[0m \u001b[1;36m5\u001b[0m\u001b[1;33m\u001b[0m\u001b[1;33m\u001b[0m\u001b[0m\n\u001b[0m",
      "\u001b[1;31mTypeError\u001b[0m: 'tuple' object does not support item assignment"
     ]
    }
   ],
   "source": [
    "t[0] = 5"
   ]
  },
  {
   "cell_type": "markdown",
   "id": "0806b274",
   "metadata": {},
   "source": [
    "# 튜플은 값을 변경불가 "
   ]
  },
  {
   "cell_type": "code",
   "execution_count": 4,
   "id": "f2e36480",
   "metadata": {},
   "outputs": [
    {
     "data": {
      "text/plain": [
       "list"
      ]
     },
     "execution_count": 4,
     "metadata": {},
     "output_type": "execute_result"
    }
   ],
   "source": [
    "t2 = [1,2,3]\n",
    "type(t2)"
   ]
  },
  {
   "cell_type": "code",
   "execution_count": 5,
   "id": "1c1ad408",
   "metadata": {},
   "outputs": [],
   "source": [
    "t2[0]=5"
   ]
  },
  {
   "cell_type": "markdown",
   "id": "1d9c4801",
   "metadata": {},
   "source": [
    "# 미니실습 1"
   ]
  },
  {
   "cell_type": "code",
   "execution_count": 11,
   "id": "5ece7536",
   "metadata": {},
   "outputs": [
    {
     "name": "stdout",
     "output_type": "stream",
     "text": [
      "1\n",
      "g\n",
      "AAC\n"
     ]
    }
   ],
   "source": [
    "def min_of(a):\n",
    "    minimum = a[0]\n",
    "    for i in range(1, len(a)):\n",
    "        if a[i] < minimum:\n",
    "            minimum = a[i]\n",
    "    return minimum\n",
    "\n",
    "t = (4, 7, 5, 6, 2, 3.14, 1)\n",
    "s = 'string'\n",
    "a = ['DTS', 'AAC', 'FLAC']\n",
    "    \n",
    "print(f'{min_of(t)}')\n",
    "print(f'{min_of(s)}')\n",
    "print(f'{min_of(a)}')\n",
    "    "
   ]
  },
  {
   "cell_type": "code",
   "execution_count": 13,
   "id": "69c86d46",
   "metadata": {},
   "outputs": [
    {
     "name": "stdout",
     "output_type": "stream",
     "text": [
      "리스트의 최댓값을 구합니다.\n",
      "원소수: 5\n",
      "x[0]값을 입력하세요.:1\n",
      "x[1]값을 입력하세요.:2\n",
      "x[2]값을 입력하세요.:3\n",
      "x[3]값을 입력하세요.:4\n",
      "x[4]값을 입력하세요.:5\n",
      "최댓값은 5입니다.\n"
     ]
    }
   ],
   "source": [
    "def max_of(a):\n",
    "    maximum = a[0]\n",
    "    for i in range(1, len(a)):\n",
    "        if a[i] > maximum:\n",
    "            maximum = a[i]\n",
    "    return maximum\n",
    "\n",
    "print('리스트의 최댓값을 구합니다.')\n",
    "num = int(input('원소수: '))\n",
    "x = [None] * num\n",
    "\n",
    "for i  in range(num):\n",
    "    x[i] = int(input(f'x[{i}]값을 입력하세요.:'))\n",
    "\n",
    "print(f'최댓값은 {max_of(x)}입니다.')"
   ]
  },
  {
   "cell_type": "code",
   "execution_count": null,
   "id": "c410f91e",
   "metadata": {},
   "outputs": [],
   "source": [
    " def max_of(a):\n",
    "    maximum = a[0]\n",
    "    for i in range(1, len(a)):\n",
    "        if a[i] > maximum:\n",
    "            maximum = a[i]\n",
    "    return maximum\n",
    "\n",
    "while True:\n",
    "    s = input(f'x[{i}]값:')\n",
    "    if s == 'End':\n",
    "        break\n",
    "    x.append(int(s))\n",
    "    i += 1\n",
    "    \n",
    "print(f'최대값은 {max_of(x)}입니다.')"
   ]
  },
  {
   "cell_type": "code",
   "execution_count": 19,
   "id": "56c7243d",
   "metadata": {},
   "outputs": [
    {
     "name": "stdout",
     "output_type": "stream",
     "text": [
      "John George Paul Ringo "
     ]
    }
   ],
   "source": [
    "x = ['John', 'George', 'Paul', 'Ringo']\n",
    "\n",
    "for i in x:\n",
    "    print(i + ' ' , end='')"
   ]
  },
  {
   "cell_type": "code",
   "execution_count": 20,
   "id": "dcc4e215",
   "metadata": {},
   "outputs": [
    {
     "name": "stdout",
     "output_type": "stream",
     "text": [
      "x[0] = John\n",
      "x[1] = George\n",
      "x[2] = Paul\n",
      "x[3] = Ringo\n"
     ]
    }
   ],
   "source": [
    "x = ['John', 'George', 'Paul', 'Ringo']\n",
    "\n",
    "for i in range(len(x)):\n",
    "    print(f'x[{i}] = {x[i]}')"
   ]
  },
  {
   "cell_type": "code",
   "execution_count": 24,
   "id": "5a4c5daf",
   "metadata": {},
   "outputs": [
    {
     "name": "stdout",
     "output_type": "stream",
     "text": [
      "[7, 6, 9, 3, 9, 6, 7]\n"
     ]
    }
   ],
   "source": [
    "\n",
    "def reverse_list(a):\n",
    "    n = len(a)\n",
    "    for i in range(n//2):\n",
    "        a[i] = a[n - i - 1]\n",
    "a= [2, 5, 1, 3, 9, 6, 7]\n",
    "\n",
    "reverse_list(a)\n",
    "\n",
    "print(a)"
   ]
  },
  {
   "cell_type": "markdown",
   "id": "f35a119c",
   "metadata": {},
   "source": [
    "# 미니실습 2"
   ]
  },
  {
   "cell_type": "code",
   "execution_count": 38,
   "id": "da06ba8c",
   "metadata": {},
   "outputs": [
    {
     "name": "stdout",
     "output_type": "stream",
     "text": [
      "원소수: 5\n",
      "x[0]값을 입력하세요.:1\n",
      "x[1]값을 입력하세요.:2\n",
      "x[2]값을 입력하세요.:3\n",
      "x[3]값을 입력하세요.:4\n",
      "x[4]값을 입력하세요.:5\n",
      "리스트를 역순출력\n",
      "x[0] = 5\n",
      "x[1] = 4\n",
      "x[2] = 3\n",
      "x[3] = 2\n",
      "x[4] = 1\n"
     ]
    }
   ],
   "source": [
    "\n",
    "def reverse_list(x):\n",
    "    n = len(x)\n",
    "    for i in range(n//2):\n",
    "        x[i],x[n - i - 1] = x[n - i - 1], x[i]\n",
    "\n",
    "num = int(input('원소수: '))\n",
    "x = [None] * num\n",
    "for i  in range(num):\n",
    "    x[i] = int(input(f'x[{i}]값을 입력하세요.:'))        \n",
    "\n",
    "reverse_list(x)\n",
    "print('리스트를 역순출력')\n",
    "for i in range(len(x)):\n",
    "    print(f'x[{i}] = {x[i]}')"
   ]
  },
  {
   "cell_type": "markdown",
   "id": "9ed4f4d2",
   "metadata": {},
   "source": [
    "## unit 2. 검색 알고리즘"
   ]
  },
  {
   "cell_type": "markdown",
   "id": "521626e7",
   "metadata": {},
   "source": [
    "### 검색 알고리즘\n",
    "\n",
    "### 원하는 값을 가진 원소를 찾아내는 알고리즘\n",
    "\n",
    "### 자료구조에 따라 활용할 수 있는 검색 알고리즘이 달라짐"
   ]
  },
  {
   "cell_type": "markdown",
   "id": "dea84a75",
   "metadata": {},
   "source": [
    "### 선형 검색 linear search"
   ]
  },
  {
   "cell_type": "markdown",
   "id": "18d7bdc1",
   "metadata": {},
   "source": [
    "##### 앞에서부터 스캔하여 검색\n",
    "\n",
    "##### 검색할 값과 같은 원소를 찾은 경우 -> 검색 성공\n",
    "##### 끝까지 도달해도 못 찾는 경우 ->검색 실패"
   ]
  },
  {
   "cell_type": "code",
   "execution_count": 39,
   "id": "56d00904",
   "metadata": {},
   "outputs": [],
   "source": [
    "def seq_search(a,key):\n",
    "    \n",
    "    i = 0\n",
    "    while True:\n",
    "        if i ==len(a):#리스트 범위를 벗어났는지\n",
    "            return -1\n",
    "        if a[i] == key:#값이 존재하는지\n",
    "            return 1\n",
    "        i += 1"
   ]
  },
  {
   "cell_type": "code",
   "execution_count": 40,
   "id": "12679133",
   "metadata": {},
   "outputs": [
    {
     "name": "stdout",
     "output_type": "stream",
     "text": [
      "a[4]\n"
     ]
    }
   ],
   "source": [
    "a= [2,5,1,3,9,6,7]\n",
    "index = seq_search(a,3)\n",
    "if index == -1:\n",
    "    print('fail')\n",
    "if index == 1:\n",
    "    print(f'a[{i}]')"
   ]
  },
  {
   "cell_type": "code",
   "execution_count": 41,
   "id": "09f8ce36",
   "metadata": {},
   "outputs": [
    {
     "name": "stdout",
     "output_type": "stream",
     "text": [
      "a[4]\n"
     ]
    }
   ],
   "source": [
    "def seq_search_for(a,key):\n",
    "    for i in range(len(a)):\n",
    "        if a[i] == key:\n",
    "            return i\n",
    "    return -1\n",
    "a= [2,5,1,3,9,6,7]\n",
    "index = seq_search(a,3)\n",
    "if index == -1:\n",
    "    print('fail')\n",
    "if index == 1:\n",
    "    print(f'a[{i}]')"
   ]
  },
  {
   "cell_type": "markdown",
   "id": "c8f51645",
   "metadata": {},
   "source": [
    "## linear search - 보초법(sentinel method)"
   ]
  },
  {
   "cell_type": "markdown",
   "id": "8fd3a396",
   "metadata": {},
   "source": [
    "### 3을 찾는 경우에는 보초를 3,\n",
    "### 4를 찾는 경우에는 보초를 4"
   ]
  },
  {
   "cell_type": "code",
   "execution_count": 45,
   "id": "9337c0f6",
   "metadata": {},
   "outputs": [
    {
     "name": "stdout",
     "output_type": "stream",
     "text": [
      "a[4]\n"
     ]
    }
   ],
   "source": [
    "def seq_search_sentinel(b,key):\n",
    "    a=b.copy()#새로운 리스트를 b를 복사해서 만듬\n",
    "    a.append(key)#마지막에 보초를 추가\n",
    "    \n",
    "    i=0\n",
    "    while True:\n",
    "        if a[i] == key:#찾는 값 찾으면 break\n",
    "            break\n",
    "        i += 1\n",
    "    return -1 if i == len(b) else i\n",
    "\n",
    "b=[1,2,3,4,5,6,7]\n",
    "key = 5\n",
    "index = seq_search_sentinel(b, key)\n",
    "if index == -1:\n",
    "    print('fail')\n",
    "else:\n",
    "    print(f'a[{i}]')"
   ]
  },
  {
   "cell_type": "markdown",
   "id": "d231f23a",
   "metadata": {},
   "source": [
    "## 미니실습 3"
   ]
  },
  {
   "cell_type": "code",
   "execution_count": 66,
   "id": "8bc2d210",
   "metadata": {},
   "outputs": [
    {
     "name": "stdout",
     "output_type": "stream",
     "text": [
      "7\n"
     ]
    }
   ],
   "source": [
    "def seq_search_sentinel(b,key):\n",
    "    a=b.copy()#새로운 리스트를 b를 복사해서 만듬\n",
    "    a.append(key)#마지막에 보초를 추가\n",
    "    count=0\n",
    "    i=0\n",
    "    while True:\n",
    "        count+=1\n",
    "        if a[i] == key:#찾는 값 찾으면 break\n",
    "            break\n",
    "        i += 1\n",
    "    return (-1,count) if i == len(b) else (i, count)\n",
    "\n",
    "b=[1,2,3,4,5,6,7]\n",
    "key = 7\n",
    "index1, count1 = seq_search_sentinel(b, key)\n",
    "print(count1)\n"
   ]
  },
  {
   "cell_type": "code",
   "execution_count": 67,
   "id": "8dfd9808",
   "metadata": {},
   "outputs": [
    {
     "name": "stdout",
     "output_type": "stream",
     "text": [
      "7\n"
     ]
    }
   ],
   "source": [
    "def seq_search_for(a,key):\n",
    "    count = 0\n",
    "    for i in range(len(a)):\n",
    "        count +=1\n",
    "        if a[i] == key:\n",
    "            return (i, count)\n",
    "    return (-1, count)\n",
    "a= [2,5,1,3,9,6,7]\n",
    "index2, count2 = seq_search_for(a,7)\n",
    "print(count2)"
   ]
  },
  {
   "cell_type": "code",
   "execution_count": 70,
   "id": "53cc9b7c",
   "metadata": {},
   "outputs": [
    {
     "name": "stdout",
     "output_type": "stream",
     "text": [
      "14\n"
     ]
    }
   ],
   "source": [
    "def seq_search(a,key):\n",
    "    count = 0\n",
    "    i = 0\n",
    "    while True:\n",
    "        count += 1\n",
    "        if i ==len(a):#리스트 범위를 벗어났는지\n",
    "            return (-1, count)\n",
    "        count += 1\n",
    "        if a[i] == key:#값이 존재하는지\n",
    "            return (i, count)\n",
    "        i += 1\n",
    "a= [2,5,1,3,9,6,7]\n",
    "index0, count0 = seq_search(a,7)\n",
    "\n",
    "print(count0)"
   ]
  },
  {
   "cell_type": "markdown",
   "id": "ca3cd722",
   "metadata": {},
   "source": [
    "## 이진 검색"
   ]
  },
  {
   "cell_type": "markdown",
   "id": "02e704bd",
   "metadata": {},
   "source": [
    "### 중간값부터 찾기 시작함"
   ]
  },
  {
   "cell_type": "code",
   "execution_count": 71,
   "id": "2b6855ae",
   "metadata": {},
   "outputs": [
    {
     "name": "stdout",
     "output_type": "stream",
     "text": [
      "a[4]\n"
     ]
    }
   ],
   "source": [
    "def bin_search(a,key):\n",
    "    pl = 0\n",
    "    pr = len(a)-1\n",
    "    \n",
    "    while True:\n",
    "        pc = (pl+pr)//2\n",
    "        if a[pc] ==key:\n",
    "            return pc\n",
    "        elif a[pc] <key:\n",
    "            pl = pc+1\n",
    "        else:\n",
    "            pr = pc -1\n",
    "        \n",
    "        if pl > pr:\n",
    "            break\n",
    "            \n",
    "    return -1\n",
    "\n",
    "a = [5, 7, 15,28,29,31,39,58,68,70,95]\n",
    "\n",
    "index = bin_search(a,39)\n",
    "\n",
    "if index == -1:\n",
    "    print(\"없음\")\n",
    "else:\n",
    "    print(f'a[{i}]')"
   ]
  },
  {
   "cell_type": "markdown",
   "id": "57939588",
   "metadata": {},
   "source": [
    "## 실습 1"
   ]
  },
  {
   "cell_type": "code",
   "execution_count": 98,
   "id": "77297b27",
   "metadata": {},
   "outputs": [
    {
     "name": "stdout",
     "output_type": "stream",
     "text": [
      "[2, 3, 5, 7, 11, 13, 17, 19, 23, 29, 31, 37, 41, 43, 47, 53, 59, 61, 67, 71, 73, 79, 83, 89, 97, 101, 103, 107, 109, 113, 127, 131, 137, 139, 149, 151, 157, 163, 167, 173, 179, 181, 191, 193, 197, 199, 211, 223, 227, 229, 233, 239, 241, 251, 257, 263, 269, 271, 277, 281, 283, 293, 307, 311, 313, 317, 331, 337, 347, 349, 353, 359, 367, 373, 379, 383, 389, 397, 401, 409, 419, 421, 431, 433, 439, 443, 449, 457, 461, 463, 467, 479, 487, 491, 499, 503, 509, 521, 523, 541, 547, 557, 563, 569, 571, 577, 587, 593, 599, 601, 607, 613, 617, 619, 631, 641, 643, 647, 653, 659, 661, 673, 677, 683, 691, 701, 709, 719, 727, 733, 739, 743, 751, 757, 761, 769, 773, 787, 797, 809, 811, 821, 823, 827, 829, 839, 853, 857, 859, 863, 877, 881, 883, 887, 907, 911, 919, 929, 937, 941, 947, 953, 967, 971, 977, 983, 991, 997]\n"
     ]
    }
   ],
   "source": [
    "\n",
    "b=[]\n",
    "\n",
    "\n",
    "for n in range(2, 1001):\n",
    "    flag = 0\n",
    "    for i in range(2, n):\n",
    "        if n % i == 0:\n",
    "            flag = 1\n",
    "            break\n",
    "        \n",
    "    if flag == 0:\n",
    "        b.append(n)\n",
    "print(b)\n",
    "        \n",
    "            "
   ]
  },
  {
   "cell_type": "markdown",
   "id": "e3f3cf6d",
   "metadata": {},
   "source": [
    "## 실습 2\n",
    "### 리스트를 사용자로부터 입력받아서 역순으로 정렬하여 리스트의 원소를 출력하여라\n",
    "### 원소 수를 미리 묻지 말고 코드가 실행될 수 있도록하여라"
   ]
  },
  {
   "cell_type": "code",
   "execution_count": 106,
   "id": "bba1044f",
   "metadata": {},
   "outputs": [],
   "source": [
    "def reverse_list(a):\n",
    "    n = len(a)\n",
    "    for i in range(n // 2):\n",
    "        a[i], a[n - i - 1] = a[n - i - 1], a[i]"
   ]
  },
  {
   "cell_type": "code",
   "execution_count": 108,
   "id": "35258f7a",
   "metadata": {},
   "outputs": [
    {
     "name": "stdout",
     "output_type": "stream",
     "text": [
      "리스트의 최댓값을 구합니다.\n",
      "주의: \"End\"를 입력하면 원소 입력을 종료합니다.\n",
      "x[0]값을 입력하세요.: 1\n",
      "x[1]값을 입력하세요.: 2\n",
      "x[2]값을 입력하세요.: 3\n",
      "x[3]값을 입력하세요.: 4\n",
      "x[4]값을 입력하세요.: End\n",
      "x[0]은 4입니다.\n",
      "x[1]은 3입니다.\n",
      "x[2]은 2입니다.\n",
      "x[3]은 1입니다.\n"
     ]
    }
   ],
   "source": [
    "print('리스트의 최댓값을 구합니다.')\n",
    "print('주의: \"End\"를 입력하면 원소 입력을 종료합니다.')\n",
    "i = 0\n",
    "x = []\n",
    "\n",
    "while True:\n",
    "    s = input(f'x[{i}]값을 입력하세요.: ')\n",
    "    if s == 'End':\n",
    "        break\n",
    "    x.append(int(s))\n",
    "    i += 1\n",
    "    \n",
    "reverse_list(x)\n",
    "for i in range(len(x)):\n",
    "    print(f'x[{i}]은 {x[i]}입니다.')"
   ]
  },
  {
   "cell_type": "markdown",
   "id": "a7e48709",
   "metadata": {},
   "source": [
    "## 실습 3\n",
    "### 리스트와 검색할 값을 사용자로부터 입력받아서 검색값이 있는 인덱스를 출력하라.\n",
    "### 검색방안은 어떤 방안을 사용하여도 됩니다."
   ]
  },
  {
   "cell_type": "code",
   "execution_count": 122,
   "id": "e9e84f6d",
   "metadata": {},
   "outputs": [],
   "source": [
    "def seq_search(b,key):\n",
    "    a=b.copy()\n",
    "    a.append(key)\n",
    "    \n",
    "    i=0\n",
    "    while True:\n",
    "        if a[i] == key:\n",
    "            break\n",
    "        i+=1\n",
    "    return -1 if i == len(b) else i"
   ]
  },
  {
   "cell_type": "code",
   "execution_count": 128,
   "id": "f5a2ee87",
   "metadata": {},
   "outputs": [
    {
     "name": "stdout",
     "output_type": "stream",
     "text": [
      "주의: \"End\"를 입력하면 원소 입력을 종료합니다.\n",
      "x[0]값을 입력하세요.: 1\n",
      "x[1]값을 입력하세요.: 2\n",
      "x[2]값을 입력하세요.: 3\n",
      "x[3]값을 입력하세요.: 4\n",
      "x[4]값을 입력하세요.: 5\n",
      "x[5]값을 입력하세요.: End\n",
      "key값을 입력하세요.: 5\n",
      "x[4]\n"
     ]
    }
   ],
   "source": [
    "print('주의: \"End\"를 입력하면 원소 입력을 종료합니다.')\n",
    "i = 0\n",
    "x = []\n",
    "\n",
    "while True:\n",
    "    s = input(f'x[{i}]값을 입력하세요.: ')\n",
    "    if s == 'End':\n",
    "        break\n",
    "    x.append(int(s))\n",
    "    i += 1\n",
    "\n",
    "key = int(input(f'key값을 입력하세요.: '))\n",
    "index = seq_search(x,key)\n",
    "if index == -1:\n",
    "    print('fail')\n",
    "else:\n",
    "    print(f'x[{index}]')"
   ]
  },
  {
   "cell_type": "markdown",
   "id": "2566590e",
   "metadata": {},
   "source": [
    "# 실습 4\n",
    "### 리스트를 사용자로부터 입력받아서 최대값과 최대값이 있는 인덱스를 출력하라."
   ]
  },
  {
   "cell_type": "code",
   "execution_count": 133,
   "id": "c75428f4",
   "metadata": {},
   "outputs": [],
   "source": [
    "def max_of(a):\n",
    "    maximum = a[0]\n",
    "    for i in range(1, len(a)):\n",
    "        if a[i]> maximum:\n",
    "            maximum = a[i]\n",
    "            \n",
    "    return maximum"
   ]
  },
  {
   "cell_type": "code",
   "execution_count": 134,
   "id": "0e73759d",
   "metadata": {},
   "outputs": [],
   "source": [
    "def seq_search(b,key):\n",
    "    a=b.copy()\n",
    "    a.append(key)\n",
    "    \n",
    "    i=0\n",
    "    while True:\n",
    "        if a[i] == key:\n",
    "            break\n",
    "        i+=1\n",
    "    return -1 if i == len(b) else i"
   ]
  },
  {
   "cell_type": "code",
   "execution_count": 142,
   "id": "60345578",
   "metadata": {},
   "outputs": [
    {
     "name": "stdout",
     "output_type": "stream",
     "text": [
      "x[0]의 값:1\n",
      "x[1]의 값:4\n",
      "x[2]의 값:56\n",
      "x[3]의 값:32\n",
      "x[4]의 값:3\n",
      "x[5]의 값:End\n",
      "최대값은 56, 인덱스는 x[2]\n"
     ]
    }
   ],
   "source": [
    "i=0\n",
    "x=[]\n",
    "while True:\n",
    "    s = input(f'x[{i}]의 값:')\n",
    "    if s == 'End':\n",
    "        break\n",
    "    x.append(s)\n",
    "    i+=1\n",
    "\n",
    "maximum = max_of(x)\n",
    "index= seq_search(x, maximum)\n",
    "\n",
    "\n",
    "print(f'최대값은 {maximum}, 인덱스는 x[{index}]')\n",
    "\n"
   ]
  },
  {
   "cell_type": "markdown",
   "id": "e4c44ac1",
   "metadata": {},
   "source": [
    "### Q0 (https://www.acmicpc.net/problem/10871)\n",
    "\n",
    "### 정수 N개로 이루어진 수열 A와 정수 X가 주어진다. 이때, A에서 X보다 작은 수를 모두 출력하는 프로그램을 작성하시오.\n",
    "### 입력\n",
    "- 첫째 줄에 N과 X가 주어진다. (1 ≤ N, X ≤ 10,000)\n",
    "- 둘째 줄에 수열 A를 이루는 정수 N개가 주어진다. 주어지는 정수는 모두 1보다 크거나 같고, 10,000보다 작거나 같은 정수이다.\n",
    "### 출력\n",
    "- X보다 작은 수를 입력받은 순서대로 공백으로 구분해 출력한다. X보다 작은 수는 적어도 하나 존재한다.\n",
    "### 예제 입력 1\n",
    "- 10 5\n",
    "- 1 10 4 9 2 3 8 5 7 6\n",
    "### 예제 출력 1\n",
    "- 1 4 2 3"
   ]
  },
  {
   "cell_type": "code",
   "execution_count": 149,
   "id": "882cf9c1",
   "metadata": {},
   "outputs": [
    {
     "name": "stdout",
     "output_type": "stream",
     "text": [
      "10 5\n",
      "1 10 4 9 2 3 8 5 7 6\n",
      "1 4 2 3 "
     ]
    }
   ],
   "source": [
    "N, X = map(int,input().split())\n",
    "data = list(map(int, input().split()))\n",
    "\n",
    "for i in range(len(data)):\n",
    "    if data[i] >= X:\n",
    "        print('', end='')\n",
    "    else:\n",
    "        print(data[i], end=' ')"
   ]
  },
  {
   "cell_type": "code",
   "execution_count": 165,
   "id": "b7a0c16a",
   "metadata": {},
   "outputs": [
    {
     "name": "stdout",
     "output_type": "stream",
     "text": [
      "10 5\n",
      "1 10 4 9 2 3 8 5 7 6\n",
      "1 4 2 3 "
     ]
    }
   ],
   "source": [
    "N, X = map(int,input().split())\n",
    "data = list(map(int, input().split()))\n",
    "answer = []\n",
    "\n",
    "for i in data:\n",
    "    if i < X:\n",
    "        answer.append(i)\n",
    "for i in answer:\n",
    "    print(i, end=' ')"
   ]
  },
  {
   "cell_type": "code",
   "execution_count": 166,
   "id": "cc47d361",
   "metadata": {},
   "outputs": [
    {
     "name": "stdout",
     "output_type": "stream",
     "text": [
      "10 5\n",
      "1 10 4 9 2 3 8 5 7 6\n",
      "1\n",
      "10\n",
      "4\n",
      "9\n",
      "2\n",
      "3\n",
      "8\n",
      "5\n",
      "7\n",
      "6\n"
     ]
    }
   ],
   "source": [
    "N, X = map(int,input().split())\n",
    "data = list(map(int, input().split()))\n",
    "answer = []\n",
    "\n",
    "for i in data:\n",
    "    print(i)"
   ]
  },
  {
   "cell_type": "markdown",
   "id": "0f85d10e",
   "metadata": {},
   "source": [
    "### Q1 (https://programmers.co.kr/learn/courses/30/lessons/77484)\n",
    "### 로또 6/45(이하 '로또'로 표기)는 1부터 45까지의 숫자 중 6개를 찍어서 맞히는 대표적인 복권입니다. 아래는 로또의 순위를 정하는 방식입니다. \n",
    "\n",
    "|순위\t| 당첨  내용\n",
    "|----|---------\n",
    "| 1\t | 6개 번호가 모두 일치\n",
    "| 2\t | 5개 번호가 일치\n",
    "| 3\t | 4개 번호가 일치\n",
    "| 4\t | 3개 번호가 일치\n",
    "| 5\t | 2개 번호가 일치\n",
    "| 6  | (낙첨)\t그 외\n",
    "\n",
    "### 로또를 구매한 민우는 당첨 번호 발표일을 학수고대하고 있었습니다. 하지만, 민우의 동생이 로또에 낙서를 하여, 일부 번호를 알아볼 수 없게 되었습니다. 당첨 번호 발표 후, 민우는 자신이 구매했던 로또로 당첨이 가능했던 최고 순위와 최저 순위를 알아보고 싶어 졌습니다. 알아볼 수 없는 번호를 0으로 표기하기로 하고, 민우가 구매한 로또 번호 6개가 44, 1, 0, 0, 31 25라고 가정해보겠습니다. 당첨 번호 6개가 31, 10, 45, 1, 6, 19라면, 당첨 가능한 최고 순위와 최저 순위의 한 예는 아래와 같습니다.\n",
    "\n",
    "| 당첨 번호\t    | 31 10 45 1 6 19\t| 결과\n",
    "|-------------|-------------------|-----------------\n",
    "| 최고 순위 번호 | 31\t0→10 44\t1 0→6 25 | 4개 번호 일치, 3등\n",
    "| 최저 순위 번호 | 31\t0→11 44\t1 0→7 25 | 2개 번호 일치, 5등\n",
    "\n",
    "- 순서와 상관없이, 구매한 로또에 당첨 번호와 일치하는 번호가 있으면 맞힌 걸로 인정됩니다.\n",
    "- 알아볼 수 없는 두 개의 번호를 각각 10, 6이라고 가정하면 3등에 당첨될 수 있습니다.\n",
    "- 3등을 만드는 다른 방법들도 존재합니다. 하지만, 2등 이상으로 만드는 것은 불가능합니다.\n",
    "- 알아볼 수 없는 두 개의 번호를 각각 11, 7이라고 가정하면 5등에 당첨될 수 있습니다.\n",
    "- 5등을 만드는 다른 방법들도 존재합니다. 하지만, 6등(낙첨)으로 만드는 것은 불가능합니다.\n",
    "\n",
    "### 민우가 구매한 로또 번호를 담은 배열 lottos, 당첨 번호를 담은 배열 win_nums가 매개변수로 주어집니다. 이때, 당첨 가능한 최고 순위와 최저 순위를 차례대로 배열에 담아서 return 하도록 solution 함수를 완성해주세요.\n",
    "\n",
    "### 제한사항\n",
    "- lottos는 길이 6인 정수 배열입니다.\n",
    "- lottos의 모든 원소는 0 이상 45 이하인 정수입니다.\n",
    "- 0은 알아볼 수 없는 숫자를 의미합니다.\n",
    "- 0을 제외한 다른 숫자들은 lottos에 2개 이상 담겨있지 않습니다.\n",
    "- lottos의 원소들은 정렬되어 있지 않을 수도 있습니다.\n",
    "- win_nums은 길이 6인 정수 배열입니다.\n",
    "- win_nums의 모든 원소는 1 이상 45 이하인 정수입니다.\n",
    "- win_nums에는 같은 숫자가 2개 이상 담겨있지 않습니다.\n",
    "- win_nums의 원소들은 정렬되어 있지 않을 수도 있습니다.\n",
    "\n",
    "### 입출력 예\n",
    "| lottos\t| win_nums\t| result\n",
    "|-----------|-----------|--------------\n",
    "|[44, 1, 0, 0, 31, 25]|\t[31, 10, 45, 1, 6, 19]|\t[3, 5]\n",
    "|[0, 0, 0, 0, 0, 0]\t|[38, 19, 20, 40, 15, 25]\t|[1, 6]\n",
    "|[45, 4, 35, 20, 3, 9]\t|[20, 9, 3, 45, 4, 35]\t|[1, 1]\n",
    "\n"
   ]
  },
  {
   "cell_type": "code",
   "execution_count": 162,
   "id": "222fe8b7",
   "metadata": {},
   "outputs": [
    {
     "name": "stdout",
     "output_type": "stream",
     "text": [
      "[1, 1]\n"
     ]
    }
   ],
   "source": [
    "def solution(lottos, win_nums):\n",
    "    answer2 = 0\n",
    "    answer1 = 0\n",
    "    for i in range(len(lottos)):\n",
    "        if lottos[i] == 0:\n",
    "            answer2 +=1\n",
    "        for j in range(len(win_nums)):\n",
    "            if lottos[i] == win_nums[j]:\n",
    "                answer1 +=1\n",
    "                answer2 +=1\n",
    "    if answer1 == 6:\n",
    "        answer3 = 1\n",
    "    elif answer1 <6 and answer1 >= 5:\n",
    "        answer3 = 2\n",
    "    elif answer1 <5 and answer1>= 4:\n",
    "        answer3 = 3\n",
    "    elif answer1 <4 and answer1>= 3:\n",
    "        answer3 = 4\n",
    "    elif answer1 <3 and answer1>= 2:\n",
    "        answer3 = 5\n",
    "    else:\n",
    "        answer3 = 6\n",
    "   #---------------------------------     \n",
    "    if answer2 == 6:\n",
    "        answer4 = 1\n",
    "    elif answer2 <6 and answer2>= 5:\n",
    "        answer4 = 2\n",
    "    elif answer2 <5 and answer2>= 4:\n",
    "        answer4 = 3\n",
    "    elif answer2 <4 and answer2>= 3:\n",
    "        answer4 = 4\n",
    "    elif answer2 <3 and answer2>= 2:\n",
    "        answer4 = 5\n",
    "    else:\n",
    "        answer4 = 6\n",
    "    answer = [int(answer4), int(answer3)]\n",
    "    return answer\n",
    "\n",
    "lottos = [45, 4, 35, 20, 3, 9]\n",
    "win_nums = [20, 9, 3, 45, 4, 35]\n",
    "answer = solution(lottos, win_nums)\n",
    "print(answer)"
   ]
  },
  {
   "cell_type": "markdown",
   "id": "2a9756c2",
   "metadata": {},
   "source": [
    "### Q2 (https://programmers.co.kr/learn/courses/30/lessons/86051)\n",
    "\n",
    "### 0부터 9까지의 숫자 중 일부가 들어있는 배열 numbers가 매개변수로 주어집니다. numbers에서 찾을 수 없는 0부터 9까지의 숫자를 모두 찾아 더한 수를 return 하도록 solution 함수를 완성해주세요.\n",
    "\n",
    "- 제한사항\n",
    "- 1 ≤ numbers의 길이 ≤ 9\n",
    "- 0 ≤ numbers의 모든 수 ≤ 9\n",
    "- numbers의 모든 수는 서로 다릅니다.\n",
    "\n",
    "### 입출력 예\n",
    "\n",
    "|numbers|result\n",
    "|-------|-------\n",
    "|[1,2,3,4,6,7,8,0]|14\n",
    "|[5,8,4,0,6,7,9]|6"
   ]
  },
  {
   "cell_type": "code",
   "execution_count": 181,
   "id": "37a7de97",
   "metadata": {},
   "outputs": [
    {
     "name": "stdout",
     "output_type": "stream",
     "text": [
      "6\n"
     ]
    }
   ],
   "source": [
    "def solution(numbers):\n",
    "    \n",
    "    answer = 45\n",
    "    for i in range(1, 10):\n",
    "        for j in range(len(numbers)):\n",
    "            if i == numbers[j]:\n",
    "                answer = answer - numbers[j]\n",
    "    \n",
    "    return answer\n",
    "\n",
    "numbers = [5,8,0,4,6,7,9,]\n",
    "\n",
    "answer = solution(numbers)\n",
    "print(answer)"
   ]
  },
  {
   "cell_type": "markdown",
   "id": "92ca72b2",
   "metadata": {},
   "source": [
    "### Q3 (programmers)\n",
    "\n",
    "### 컴퓨터 매장에는 n개의 부품이 있으며, 부품마다 정수 형태의 고유한 번호가 있다. 어느 날 손님이 m개 종류의 부품을 대량으로 구매하겠다며 부품의 재고유무를 문의하였다. 매장에 부품 재고가 있는지 확인하는 프로그램을 작성하라. \n",
    "\n",
    "### 매장이 가지고 있는 부품 리스트와 고객이 확인하고자 하는 부품 리스트를 입력받는다. 고객이 요청한 부품 번호의 순서대로 부품을 확인해 부품이 있으면 yes, 없으면 no를 출력한다. \n",
    "\n",
    "### 제한사항\n",
    "- 부품 재고의 갯수는 고려하지 않으며 부품이 있는지 여부만 체크한다\n",
    "- 부품 리스트 길이(n, m)는 1이상, 15이하입니다.\n",
    "- 매장 보유 부품 번호는 오름차순으로 정렬된 형태로 입력한다.\n",
    "- 부품 리스트의 원소는 100 이하인 자연수입니다.\n",
    "\n",
    "\n",
    "### 입출력 예\n",
    "|store | customer | answer\n",
    "|------|----------|-------\n",
    "|[2,3,7,8,9]|[7,5,9]|['yes', 'no', 'yes']\n",
    "|[1,2,3,7,8]|[1,5,8,4,6]|['yes', 'no', 'yes', 'no', 'no']\n"
   ]
  },
  {
   "cell_type": "code",
   "execution_count": 187,
   "id": "b52e0caf",
   "metadata": {},
   "outputs": [
    {
     "name": "stdout",
     "output_type": "stream",
     "text": [
      "['yes', 'no', 'yes', 'no', 'no']\n"
     ]
    }
   ],
   "source": [
    "# Q3 answer template\n",
    "\n",
    "def solution(store, customer):\n",
    "    answer = []\n",
    "    for i in customer:\n",
    "        if i not in store:\n",
    "            answer.append('no')\n",
    "        else:\n",
    "            answer.append('yes') \n",
    "    \n",
    "    return answer\n",
    "\n",
    "store = [1,2,3,7,8]\n",
    "customer = [1,5,8,4,6]\n",
    "answer = solution(store, customer)\n",
    "print(answer)"
   ]
  },
  {
   "cell_type": "markdown",
   "id": "6f3634e2",
   "metadata": {},
   "source": [
    "### Q4 \n",
    "\n",
    "### 두 수의 최소공배수(Least Common Multiple)란 입력된 두 수의 배수 중 공통이 되는 가장 작은 숫자를 의미합니다. 예를 들어 2와 7의 최소공배수는 14가 됩니다. 정의를 확장해서, n개의 수의 최소공배수는 n 개의 수들의 배수 중 공통이 되는 가장 작은 숫자가 됩니다. n개의 숫자를 담은 배열 arr이 입력되었을 때 이 수들의 최소공배수를 반환하는 함수, solution을 완성해 주세요.\n",
    "\n",
    "### 제한 사항\n",
    "- arr은 길이 1이상, 15이하인 리스트입니다.\n",
    "- arr의 원소는 100 이하인 자연수입니다.\n",
    "\n",
    "### 입출력 예\n",
    "|arr\t| result\n",
    "|-------|-------\n",
    "|[2,6,8,14]\t|168\n",
    "|[1,2,3]\t|6"
   ]
  },
  {
   "cell_type": "code",
   "execution_count": 188,
   "id": "bb9b9d9d",
   "metadata": {},
   "outputs": [
    {
     "ename": "IndentationError",
     "evalue": "expected an indented block (<ipython-input-188-ecaf231ad254>, line 5)",
     "output_type": "error",
     "traceback": [
      "\u001b[1;36m  File \u001b[1;32m\"<ipython-input-188-ecaf231ad254>\"\u001b[1;36m, line \u001b[1;32m5\u001b[0m\n\u001b[1;33m    answer = 0\u001b[0m\n\u001b[1;37m    ^\u001b[0m\n\u001b[1;31mIndentationError\u001b[0m\u001b[1;31m:\u001b[0m expected an indented block\n"
     ]
    }
   ],
   "source": [
    "# Q4 Answer Template\n",
    "\n",
    "def solution(arr):\n",
    "    answer = 0\n",
    "    for i in arr:\n",
    "        answer = i*(i+1)\n",
    "    \n",
    "    \n",
    "    return answer\n",
    "\n",
    "arr = [2,6,8,14]\n",
    "answer = solution(arr)\n",
    "print(answer)"
   ]
  },
  {
   "cell_type": "code",
   "execution_count": null,
   "id": "8c2970cf",
   "metadata": {},
   "outputs": [],
   "source": []
  }
 ],
 "metadata": {
  "kernelspec": {
   "display_name": "Python 3",
   "language": "python",
   "name": "python3"
  },
  "language_info": {
   "codemirror_mode": {
    "name": "ipython",
    "version": 3
   },
   "file_extension": ".py",
   "mimetype": "text/x-python",
   "name": "python",
   "nbconvert_exporter": "python",
   "pygments_lexer": "ipython3",
   "version": "3.8.8"
  }
 },
 "nbformat": 4,
 "nbformat_minor": 5
}
