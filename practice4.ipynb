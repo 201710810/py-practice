{
 "cells": [
  {
   "cell_type": "markdown",
   "id": "1064ef96",
   "metadata": {},
   "source": [
    "# Q4 \n",
    "\n",
    "### 각 자리가 숫자(0부터 9)로만 이루어진 문자열을 사용자로 부터 입력받아, 왼쪽부터 오른쪽으로 하나씩 모든 숫자를 확인하며 숫자 사이에 곱하기(x) 혹은 더하기(+) 연산자를 넣어 결과적으로 만들어질 수 있는 가장 큰 수를 구하는 프로그램을 작성하세요. \n",
    "\n",
    "### 단, + 보다 x 를 먼저 계산하는 일반적인 방식과 달리 모든 연산은 왼쪽에서부터 순서대로 이루어진다고 가정합니다.\n",
    "\n",
    "### 입출력 예\n",
    "### 숫자로 이루어진 문자열을 입력하세요. 02984\n",
    "### 0 + 2 x 9 x 8 x 4  = 576\n",
    "\n",
    "### 숫자로 이루어진 문자열을 입력하세요. 567\n",
    "### 5 x 6 x 7  = 210\n"
   ]
  },
  {
   "cell_type": "code",
   "execution_count": 17,
   "id": "7f71c7e5",
   "metadata": {},
   "outputs": [
    {
     "name": "stdout",
     "output_type": "stream",
     "text": [
      "숫자로 이루어진 문자열을 입력하세요. 02984\n",
      "0+ 0 + 2 x 9 x 8 x 4  = 576\n"
     ]
    }
   ],
   "source": [
    "data = input('숫자로 이루어진 문자열을 입력하세요. ')\n",
    "result =int(data[0])\n",
    "print(result, end='')\n",
    "\n",
    "\n",
    "for i in range(0, len(data)):\n",
    "    num = int(data[i])\n",
    "    if num <= 1 or result <= 1:\n",
    "        result += num\n",
    "        print('+ ' + str(num), end=' ')\n",
    "    else:\n",
    "        result *=num\n",
    "        print('x ' + str(num), end=' ')\n",
    "\n",
    "print(' = ' + str(result))"
   ]
  },
  {
   "cell_type": "code",
   "execution_count": null,
   "id": "64a56914",
   "metadata": {},
   "outputs": [],
   "source": []
  }
 ],
 "metadata": {
  "kernelspec": {
   "display_name": "Python 3.9.13 64-bit",
   "language": "python",
   "name": "python3"
  },
  "language_info": {
   "codemirror_mode": {
    "name": "ipython",
    "version": 3
   },
   "file_extension": ".py",
   "mimetype": "text/x-python",
   "name": "python",
   "nbconvert_exporter": "python",
   "pygments_lexer": "ipython3",
   "version": "3.9.13"
  },
  "vscode": {
   "interpreter": {
    "hash": "cf92aa13fedf815d5c8dd192b8d835913fde3e8bc926b2a0ad6cc74ef2ba3ca2"
   }
  }
 },
 "nbformat": 4,
 "nbformat_minor": 5
}
